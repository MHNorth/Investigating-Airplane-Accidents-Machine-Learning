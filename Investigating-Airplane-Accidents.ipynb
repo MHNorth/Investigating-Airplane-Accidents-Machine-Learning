{
 "cells": [
  {
   "cell_type": "markdown",
   "metadata": {},
   "source": [
    "<div>\n",
    "    <b>Description:</b> Investigate Airplane Accidents<br>\n",
    "    <b>Author:</b> Maika Carmelle Henry Northrop\n",
    "</div>\n",
    "<br>"
   ]
  },
  {
   "cell_type": "code",
   "execution_count": 1,
   "metadata": {},
   "outputs": [],
   "source": [
    "#import modules\n",
    "import csv\n",
    "from csv import reader\n",
    "import pandas as pd\n",
    "import pprint"
   ]
  },
  {
   "cell_type": "markdown",
   "metadata": {},
   "source": [
    "# Investigate Airplane Accidents"
   ]
  },
  {
   "cell_type": "markdown",
   "metadata": {},
   "source": [
    "The objective of this project is to explore the AviationData.txt file that was created by the National Transportation Safety Board (NTSB) and found [here](https://catalog.data.gov/dataset/aviation-data-and-documentation-from-the-ntsb-accident-database-system-05748/resource/4b1e95fe-91a7-4112-85fa-424d2672a906) at the data.gov website. "
   ]
  },
  {
   "cell_type": "markdown",
   "metadata": {},
   "source": [
    "## Collecting the Data"
   ]
  },
  {
   "cell_type": "markdown",
   "metadata": {},
   "source": [
    "I'll be working with a data set (along with its meta data) that contains 77,282 aviation accidents that occured in the U.S..  The data in the AviationData.txt file comes in CSV format, however the delimiter is the pipe '|' character.  Each row contains data about a single aviation accident.  Following are the name of the columns along with their descriptions:\n",
    "* Event Id - The unique id for the incident\n",
    "* Investigation Type - The type of investigation the NTSB conducted\n",
    "* Event Date - The date of the accident\n",
    "* Location - Where the accident occurred\n",
    "* Longitude - The longitude where the accident occurred\n",
    "* Lattitude - The lattitude where the accident occurred\n",
    "* Injury Severity - The severity of any injuries\n",
    "* Aircraft Damage - The extent of the damage to the aircraft\n",
    "* Aircraft Category - The type of aircraft\n",
    "* Make - The make of the aircraft\n",
    "* Model - The model of the aircraft\n",
    "* Number of Engines - The number of engines on the plane\n",
    "* Air Carrier - The carrier operating the aircraft\n",
    "* Total Fatal Injuries - The number of fatal injuries\n",
    "* Total Serious Injuries - The number of serious injuries\n",
    "* Total Minor Injuries - The number of minor injuries\n",
    "* Total Uninjured - The number of people who did not sustain any injuries\n",
    "* Broad Phase of Flight"
   ]
  },
  {
   "cell_type": "code",
   "execution_count": null,
   "metadata": {},
   "outputs": [],
   "source": []
  }
 ],
 "metadata": {
  "kernelspec": {
   "display_name": "Python 3",
   "language": "python",
   "name": "python3"
  },
  "language_info": {
   "codemirror_mode": {
    "name": "ipython",
    "version": 3
   },
   "file_extension": ".py",
   "mimetype": "text/x-python",
   "name": "python",
   "nbconvert_exporter": "python",
   "pygments_lexer": "ipython3",
   "version": "3.5.5"
  },
  "widgets": {
   "state": {},
   "version": "1.1.2"
  }
 },
 "nbformat": 4,
 "nbformat_minor": 2
}
